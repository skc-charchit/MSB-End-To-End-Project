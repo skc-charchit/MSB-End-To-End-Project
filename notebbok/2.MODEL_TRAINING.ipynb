{
 "cells": [
  {
   "cell_type": "code",
   "execution_count": 1,
   "metadata": {},
   "outputs": [
    {
     "name": "stderr",
     "output_type": "stream",
     "text": [
      "d:\\Work Station\\mlproject\\venv\\Lib\\site-packages\\tqdm\\auto.py:21: TqdmWarning: IProgress not found. Please update jupyter and ipywidgets. See https://ipywidgets.readthedocs.io/en/stable/user_install.html\n",
      "  from .autonotebook import tqdm as notebook_tqdm\n"
     ]
    }
   ],
   "source": [
    "#Import Libraries\n",
    "from joblib import Parallel, delayed\n",
    "import pandas as pd\n",
    "import numpy as np\n",
    "from sklearn.model_selection import train_test_split, StratifiedKFold\n",
    "from sklearn.preprocessing import StandardScaler, MinMaxScaler\n",
    "from sklearn.preprocessing import LabelEncoder\n",
    "from sklearn.decomposition import PCA\n",
    "from sklearn.feature_selection import SelectKBest, f_classif, chi2\n",
    "from imblearn.over_sampling import SMOTE\n",
    "from sklearn.linear_model import LogisticRegression\n",
    "from sklearn.discriminant_analysis import QuadraticDiscriminantAnalysis as QDA\n",
    "from sklearn.neural_network import MLPClassifier\n",
    "from sklearn.ensemble import RandomForestClassifier, BaggingClassifier, GradientBoostingClassifier, AdaBoostClassifier\n",
    "from sklearn.svm import SVC\n",
    "from sklearn.neighbors import KNeighborsClassifier\n",
    "import xgboost as xgb\n",
    "from sklearn.metrics import classification_report, accuracy_score, roc_auc_score, roc_curve, auc, confusion_matrix,precision_recall_fscore_support\n",
    "import optuna\n",
    "import matplotlib.pyplot as plt\n",
    "import seaborn as sns\n",
    "from scipy.stats import ttest_ind\n",
    "import warnings\n",
    "warnings.filterwarnings(\"ignore\")"
   ]
  },
  {
   "cell_type": "code",
   "execution_count": 2,
   "metadata": {},
   "outputs": [
    {
     "data": {
      "text/html": [
       "<div>\n",
       "<style scoped>\n",
       "    .dataframe tbody tr th:only-of-type {\n",
       "        vertical-align: middle;\n",
       "    }\n",
       "\n",
       "    .dataframe tbody tr th {\n",
       "        vertical-align: top;\n",
       "    }\n",
       "\n",
       "    .dataframe thead th {\n",
       "        text-align: right;\n",
       "    }\n",
       "</style>\n",
       "<table border=\"1\" class=\"dataframe\">\n",
       "  <thead>\n",
       "    <tr style=\"text-align: right;\">\n",
       "      <th></th>\n",
       "      <th>CreditScore</th>\n",
       "      <th>FirstPaymentDate</th>\n",
       "      <th>FirstTimeHomebuyer</th>\n",
       "      <th>MaturityDate</th>\n",
       "      <th>MSA</th>\n",
       "      <th>MIP</th>\n",
       "      <th>Units</th>\n",
       "      <th>Occupancy</th>\n",
       "      <th>OCLTV</th>\n",
       "      <th>DTI</th>\n",
       "      <th>...</th>\n",
       "      <th>PostalCode</th>\n",
       "      <th>LoanSeqNum</th>\n",
       "      <th>LoanPurpose</th>\n",
       "      <th>OrigLoanTerm</th>\n",
       "      <th>NumBorrowers</th>\n",
       "      <th>SellerName</th>\n",
       "      <th>ServicerName</th>\n",
       "      <th>EverDelinquent</th>\n",
       "      <th>MonthsDelinquent</th>\n",
       "      <th>MonthsInRepayment</th>\n",
       "    </tr>\n",
       "  </thead>\n",
       "  <tbody>\n",
       "    <tr>\n",
       "      <th>0</th>\n",
       "      <td>0</td>\n",
       "      <td>199902</td>\n",
       "      <td>0</td>\n",
       "      <td>202901</td>\n",
       "      <td>68</td>\n",
       "      <td>25</td>\n",
       "      <td>1</td>\n",
       "      <td>1</td>\n",
       "      <td>89</td>\n",
       "      <td>27</td>\n",
       "      <td>...</td>\n",
       "      <td>521</td>\n",
       "      <td>177680</td>\n",
       "      <td>2</td>\n",
       "      <td>360</td>\n",
       "      <td>1</td>\n",
       "      <td>7</td>\n",
       "      <td>17</td>\n",
       "      <td>0</td>\n",
       "      <td>0</td>\n",
       "      <td>52</td>\n",
       "    </tr>\n",
       "    <tr>\n",
       "      <th>1</th>\n",
       "      <td>0</td>\n",
       "      <td>199902</td>\n",
       "      <td>0</td>\n",
       "      <td>202901</td>\n",
       "      <td>95</td>\n",
       "      <td>0</td>\n",
       "      <td>1</td>\n",
       "      <td>1</td>\n",
       "      <td>73</td>\n",
       "      <td>17</td>\n",
       "      <td>...</td>\n",
       "      <td>718</td>\n",
       "      <td>7145</td>\n",
       "      <td>1</td>\n",
       "      <td>360</td>\n",
       "      <td>0</td>\n",
       "      <td>8</td>\n",
       "      <td>3</td>\n",
       "      <td>0</td>\n",
       "      <td>0</td>\n",
       "      <td>144</td>\n",
       "    </tr>\n",
       "    <tr>\n",
       "      <th>2</th>\n",
       "      <td>0</td>\n",
       "      <td>199902</td>\n",
       "      <td>0</td>\n",
       "      <td>202901</td>\n",
       "      <td>198</td>\n",
       "      <td>0</td>\n",
       "      <td>1</td>\n",
       "      <td>1</td>\n",
       "      <td>75</td>\n",
       "      <td>16</td>\n",
       "      <td>...</td>\n",
       "      <td>577</td>\n",
       "      <td>176597</td>\n",
       "      <td>1</td>\n",
       "      <td>360</td>\n",
       "      <td>1</td>\n",
       "      <td>7</td>\n",
       "      <td>17</td>\n",
       "      <td>0</td>\n",
       "      <td>0</td>\n",
       "      <td>67</td>\n",
       "    </tr>\n",
       "    <tr>\n",
       "      <th>3</th>\n",
       "      <td>0</td>\n",
       "      <td>199902</td>\n",
       "      <td>0</td>\n",
       "      <td>202901</td>\n",
       "      <td>210</td>\n",
       "      <td>0</td>\n",
       "      <td>1</td>\n",
       "      <td>1</td>\n",
       "      <td>76</td>\n",
       "      <td>14</td>\n",
       "      <td>...</td>\n",
       "      <td>807</td>\n",
       "      <td>116959</td>\n",
       "      <td>1</td>\n",
       "      <td>360</td>\n",
       "      <td>1</td>\n",
       "      <td>10</td>\n",
       "      <td>10</td>\n",
       "      <td>0</td>\n",
       "      <td>0</td>\n",
       "      <td>35</td>\n",
       "    </tr>\n",
       "    <tr>\n",
       "      <th>4</th>\n",
       "      <td>0</td>\n",
       "      <td>199902</td>\n",
       "      <td>0</td>\n",
       "      <td>202901</td>\n",
       "      <td>250</td>\n",
       "      <td>0</td>\n",
       "      <td>1</td>\n",
       "      <td>1</td>\n",
       "      <td>78</td>\n",
       "      <td>18</td>\n",
       "      <td>...</td>\n",
       "      <td>672</td>\n",
       "      <td>117300</td>\n",
       "      <td>1</td>\n",
       "      <td>360</td>\n",
       "      <td>1</td>\n",
       "      <td>10</td>\n",
       "      <td>10</td>\n",
       "      <td>0</td>\n",
       "      <td>0</td>\n",
       "      <td>54</td>\n",
       "    </tr>\n",
       "  </tbody>\n",
       "</table>\n",
       "<p>5 rows × 28 columns</p>\n",
       "</div>"
      ],
      "text/plain": [
       "   CreditScore  FirstPaymentDate  FirstTimeHomebuyer  MaturityDate  MSA  MIP  \\\n",
       "0            0            199902                   0        202901   68   25   \n",
       "1            0            199902                   0        202901   95    0   \n",
       "2            0            199902                   0        202901  198    0   \n",
       "3            0            199902                   0        202901  210    0   \n",
       "4            0            199902                   0        202901  250    0   \n",
       "\n",
       "   Units  Occupancy  OCLTV  DTI  ...  PostalCode  LoanSeqNum  LoanPurpose  \\\n",
       "0      1          1     89   27  ...         521      177680            2   \n",
       "1      1          1     73   17  ...         718        7145            1   \n",
       "2      1          1     75   16  ...         577      176597            1   \n",
       "3      1          1     76   14  ...         807      116959            1   \n",
       "4      1          1     78   18  ...         672      117300            1   \n",
       "\n",
       "   OrigLoanTerm  NumBorrowers  SellerName  ServicerName  EverDelinquent  \\\n",
       "0           360             1           7            17               0   \n",
       "1           360             0           8             3               0   \n",
       "2           360             1           7            17               0   \n",
       "3           360             1          10            10               0   \n",
       "4           360             1          10            10               0   \n",
       "\n",
       "   MonthsDelinquent  MonthsInRepayment  \n",
       "0                 0                 52  \n",
       "1                 0                144  \n",
       "2                 0                 67  \n",
       "3                 0                 35  \n",
       "4                 0                 54  \n",
       "\n",
       "[5 rows x 28 columns]"
      ]
     },
     "execution_count": 2,
     "metadata": {},
     "output_type": "execute_result"
    }
   ],
   "source": [
    "df = pd.read_csv(r\"D:\\Work Station\\mlproject\\notebbok\\dataset\\Encoded_LoanExport.csv\")\n",
    "df.head()"
   ]
  },
  {
   "cell_type": "markdown",
   "metadata": {},
   "source": [
    "Target and Feature Columns"
   ]
  },
  {
   "cell_type": "code",
   "execution_count": 3,
   "metadata": {},
   "outputs": [],
   "source": [
    "X = df.drop('EverDelinquent', axis=1)\n",
    "y = df['EverDelinquent']"
   ]
  },
  {
   "cell_type": "markdown",
   "metadata": {},
   "source": [
    "Using SOMTE and Data Split into train, validation, and test sets"
   ]
  },
  {
   "cell_type": "code",
   "execution_count": 4,
   "metadata": {},
   "outputs": [],
   "source": [
    "def split_data_with_smote(X, y, test_size=0.2, val_size=0.2):\n",
    "    \n",
    "    X_train_val, X_test, y_train_val, y_test = train_test_split(\n",
    "        X, y, test_size=test_size, random_state=42, stratify=y\n",
    "    )\n",
    "    \n",
    "    \n",
    "    val_proportion = val_size / (1 - test_size)\n",
    "    X_train, X_val, y_train, y_val = train_test_split(\n",
    "        X_train_val, y_train_val, test_size=val_proportion, random_state=42, stratify=y_train_val\n",
    "    )\n",
    "    \n",
    "    # Apply SMOTE to the training data only\n",
    "    smote = SMOTE(random_state=42)\n",
    "    X_train_smote, y_train_smote = smote.fit_resample(X_train, y_train)\n",
    "    \n",
    "    return X_train_smote, X_val, X_test, y_train_smote, y_val, y_test\n",
    "\n",
    "X_train_smote, X_val, X_test, y_train_smote, y_val, y_test = split_data_with_smote(X, y)\n"
   ]
  },
  {
   "cell_type": "markdown",
   "metadata": {},
   "source": [
    "Feature Scaling using Standard Scalar"
   ]
  },
  {
   "cell_type": "code",
   "execution_count": 5,
   "metadata": {},
   "outputs": [],
   "source": [
    "# Initialize the StandardScaler\n",
    "scaler = StandardScaler()\n",
    "\n",
    "# Fit the scaler on the SMOTE-transformed training data and transform it\n",
    "X_train_scaled = scaler.fit_transform(X_train_smote)"
   ]
  },
  {
   "cell_type": "code",
   "execution_count": 6,
   "metadata": {},
   "outputs": [],
   "source": [
    "# Transform the validation and test sets using the same scaler\n",
    "X_val_scaled = scaler.transform(X_val)\n",
    "X_test_scaled = scaler.transform(X_test)"
   ]
  },
  {
   "cell_type": "markdown",
   "metadata": {},
   "source": [
    "Model Selection"
   ]
  },
  {
   "cell_type": "code",
   "execution_count": 7,
   "metadata": {},
   "outputs": [],
   "source": [
    "# Define models\n",
    "models = {\n",
    "    \"Logistic Regression\": LogisticRegression(solver='liblinear', random_state=42),\n",
    "    # \"Support Vector Machine (SVM)\": SVC(probability=True, random_state=42),\n",
    "    \"Gaussian Discriminant Analysis (GDA)\": QDA(),\n",
    "    \"Feed Forward Neural Network\": MLPClassifier(random_state=42)\n",
    "}"
   ]
  },
  {
   "cell_type": "markdown",
   "metadata": {},
   "source": [
    "Evaluating Models"
   ]
  },
  {
   "cell_type": "code",
   "execution_count": 8,
   "metadata": {},
   "outputs": [],
   "source": [
    "def evaluate_model(name, model, X_val_scaled, y_val):\n",
    "    # Fit the model\n",
    "    model.fit(X_train_scaled, y_train_smote)\n",
    "    \n",
    "    # Predict on validation set\n",
    "    y_val_pred = model.predict(X_val_scaled)\n",
    "    \n",
    "    # Calculate probabilities if the model supports it\n",
    "    y_val_proba = None\n",
    "    if hasattr(model, \"predict_proba\"):\n",
    "        y_val_proba = model.predict_proba(X_val_scaled)\n",
    "    \n",
    "    # Classification report\n",
    "    report = classification_report(y_val, y_val_pred, output_dict=True)\n",
    "    \n",
    "    # Precision, Recall, F1-Score\n",
    "    precision, recall, f1, _ = precision_recall_fscore_support(y_val, y_val_pred, average='weighted')\n",
    "    \n",
    "    # AUC ROC Score\n",
    "    auc_roc = None\n",
    "    if y_val_proba is not None:\n",
    "        try:\n",
    "            auc_roc = roc_auc_score(y_val, y_val_proba, multi_class='ovr')\n",
    "        except ValueError:\n",
    "            auc_roc = None  # Handle models that don't support probability prediction\n",
    "    \n",
    "    # Confusion Matrix\n",
    "    conf_matrix = confusion_matrix(y_val, y_val_pred)\n",
    "    \n",
    "    return {\n",
    "        'Model': name,\n",
    "        'Precision': precision,\n",
    "        'Recall': recall,\n",
    "        'F1 Score': f1,\n",
    "        'AUC ROC': auc_roc,\n",
    "        'Classification Report': report,\n",
    "        'Confusion Matrix': conf_matrix\n",
    "    }"
   ]
  },
  {
   "cell_type": "code",
   "execution_count": 9,
   "metadata": {},
   "outputs": [
    {
     "name": "stdout",
     "output_type": "stream",
     "text": [
      "Evaluating Logistic Regression...\n",
      "Results for Logistic Regression:\n",
      "Precision: 1.0\n",
      "Recall: 1.0\n",
      "F1 Score: 1.0\n",
      "AUC ROC: None\n",
      "Confusion Matrix:\n",
      "[[46758     0]\n",
      " [    0 11532]]\n",
      "Classification Report:\n",
      "{'0': {'precision': 1.0, 'recall': 1.0, 'f1-score': 1.0, 'support': 46758.0}, '1': {'precision': 1.0, 'recall': 1.0, 'f1-score': 1.0, 'support': 11532.0}, 'accuracy': 1.0, 'macro avg': {'precision': 1.0, 'recall': 1.0, 'f1-score': 1.0, 'support': 58290.0}, 'weighted avg': {'precision': 1.0, 'recall': 1.0, 'f1-score': 1.0, 'support': 58290.0}}\n",
      "\n",
      "================================================================================================================================ \n",
      "\n",
      "Evaluating Gaussian Discriminant Analysis (GDA)...\n",
      "Results for Gaussian Discriminant Analysis (GDA):\n",
      "Precision: 0.9917944178602258\n",
      "Recall: 0.991439354949391\n",
      "F1 Score: 0.9915070382285145\n",
      "AUC ROC: None\n",
      "Confusion Matrix:\n",
      "[[46259   499]\n",
      " [    0 11532]]\n",
      "Classification Report:\n",
      "{'0': {'precision': 1.0, 'recall': 0.9893280294281193, 'f1-score': 0.9946353892299257, 'support': 46758.0}, '1': {'precision': 0.9585238134818386, 'recall': 1.0, 'f1-score': 0.9788227305521369, 'support': 11532.0}, 'accuracy': 0.991439354949391, 'macro avg': {'precision': 0.9792619067409193, 'recall': 0.9946640147140596, 'f1-score': 0.9867290598910312, 'support': 58290.0}, 'weighted avg': {'precision': 0.9917944178602258, 'recall': 0.991439354949391, 'f1-score': 0.9915070382285145, 'support': 58290.0}}\n",
      "\n",
      "================================================================================================================================ \n",
      "\n",
      "Evaluating Feed Forward Neural Network...\n",
      "Results for Feed Forward Neural Network:\n",
      "Precision: 0.9998284806693114\n",
      "Recall: 0.9998284439869617\n",
      "F1 Score: 0.9998284159511008\n",
      "AUC ROC: None\n",
      "Confusion Matrix:\n",
      "[[46758     0]\n",
      " [   10 11522]]\n",
      "Classification Report:\n",
      "{'0': {'precision': 0.9997861785836469, 'recall': 1.0, 'f1-score': 0.9998930778607018, 'support': 46758.0}, '1': {'precision': 1.0, 'recall': 0.9991328477280611, 'f1-score': 0.9995662357942222, 'support': 11532.0}, 'accuracy': 0.9998284439869617, 'macro avg': {'precision': 0.9998930892918234, 'recall': 0.9995664238640305, 'f1-score': 0.9997296568274621, 'support': 58290.0}, 'weighted avg': {'precision': 0.9998284806693114, 'recall': 0.9998284439869617, 'f1-score': 0.9998284159511008, 'support': 58290.0}}\n",
      "\n",
      "================================================================================================================================ \n",
      "\n"
     ]
    }
   ],
   "source": [
    "results = []\n",
    "for name, model in models.items():\n",
    "    print(f\"Evaluating {name}...\")\n",
    "    result = evaluate_model(name, model, X_val_scaled, y_val)\n",
    "    results.append(result)\n",
    "    print(f\"Results for {name}:\")\n",
    "    print(f\"Precision: {result['Precision']}\")\n",
    "    print(f\"Recall: {result['Recall']}\")\n",
    "    print(f\"F1 Score: {result['F1 Score']}\")\n",
    "    print(f\"AUC ROC: {result['AUC ROC']}\")\n",
    "    print(f\"Confusion Matrix:\\n{result['Confusion Matrix']}\")\n",
    "    print(f\"Classification Report:\\n{result['Classification Report']}\\n\")\n",
    "    print(\"================================================================================================================================ \\n\")\n"
   ]
  },
  {
   "cell_type": "code",
   "execution_count": 10,
   "metadata": {},
   "outputs": [
    {
     "name": "stdout",
     "output_type": "stream",
     "text": [
      "                             Model Name  Precision    Recall  F1 Score AUC ROC\n",
      "0                   Logistic Regression   1.000000  1.000000  1.000000    None\n",
      "1  Gaussian Discriminant Analysis (GDA)   0.991794  0.991439  0.991507    None\n",
      "2           Feed Forward Neural Network   0.999828  0.999828  0.999828    None\n"
     ]
    }
   ],
   "source": [
    "# Extract model names and their corresponding metrics\n",
    "model_names = [result['Model'] for result in results]\n",
    "precisions = [result['Precision'] for result in results]\n",
    "recalls = [result['Recall'] for result in results]\n",
    "f1_scores = [result['F1 Score'] for result in results]\n",
    "auc_roc_scores = [result['AUC ROC'] for result in results]\n",
    "\n",
    "# Create a DataFrame to include all performance metrics\n",
    "results_df = pd.DataFrame({\n",
    "    'Model Name': model_names,\n",
    "    'Precision': precisions,\n",
    "    'Recall': recalls,\n",
    "    'F1 Score': f1_scores,\n",
    "    'AUC ROC': auc_roc_scores\n",
    "}).sort_values(by=[\"AUC ROC\"], ascending=False)\n",
    "\n",
    "# Print the sorted DataFrame\n",
    "print(results_df)\n",
    "\n"
   ]
  },
  {
   "cell_type": "markdown",
   "metadata": {},
   "source": [
    "We chose Logistic Regression for the Tesing Phase as it gives more accurate results."
   ]
  },
  {
   "cell_type": "code",
   "execution_count": 11,
   "metadata": {},
   "outputs": [
    {
     "name": "stdout",
     "output_type": "stream",
     "text": [
      "Classification Report for Test Set:\n",
      "\n",
      "              precision    recall  f1-score   support\n",
      "\n",
      "           0       1.00      1.00      1.00     46758\n",
      "           1       1.00      1.00      1.00     11533\n",
      "\n",
      "    accuracy                           1.00     58291\n",
      "   macro avg       1.00      1.00      1.00     58291\n",
      "weighted avg       1.00      1.00      1.00     58291\n",
      "\n",
      "AUC ROC could not be calculated for the test set.\n",
      "\n",
      "Confusion Matrix for Test Set:\n",
      " [[46758     0]\n",
      " [    0 11533]]\n"
     ]
    }
   ],
   "source": [
    "# Define the Feed Forward Neural Network model\n",
    "best_model = LogisticRegression(solver='liblinear', random_state=42)\n",
    "\n",
    "# Fit the model on the training set\n",
    "best_model.fit(X_train_scaled, y_train_smote)\n",
    "\n",
    "# Predict on the test set\n",
    "y_test_pred = best_model.predict(X_test_scaled)\n",
    "\n",
    "# Predict probabilities for ROC AUC curve\n",
    "y_test_proba = best_model.predict_proba(X_test_scaled)\n",
    "\n",
    "# Evaluate the model on the test set\n",
    "test_report = classification_report(y_test, y_test_pred)\n",
    "print(\"Classification Report for Test Set:\\n\")\n",
    "print(test_report)\n",
    "\n",
    "# Calculate AUC ROC for the test set\n",
    "try:\n",
    "    auc_roc_test = roc_auc_score(y_test, y_test_proba, multi_class='ovr')\n",
    "    print(f\"AUC ROC Score for Test Set: {auc_roc_test:.4f}\")\n",
    "except ValueError:\n",
    "    auc_roc_test = None  # Handle models that don't support probability prediction\n",
    "    print(\"AUC ROC could not be calculated for the test set.\")\n",
    "\n",
    "# Confusion Matrix\n",
    "conf_matrix_test = confusion_matrix(y_test, y_test_pred)\n",
    "print(\"\\nConfusion Matrix for Test Set:\\n\", conf_matrix_test)"
   ]
  },
  {
   "cell_type": "markdown",
   "metadata": {},
   "source": [
    "Visualization of the Best Model's Performance"
   ]
  },
  {
   "cell_type": "code",
   "execution_count": 12,
   "metadata": {},
   "outputs": [
    {
     "data": {
      "image/png": "[encoded data removed]",
      "text/plain": [
       "<Figure size 800x600 with 2 Axes>"
      ]
     },
     "metadata": {},
     "output_type": "display_data"
    },
    {
     "data": {
      "image/png": "[encoded data removed]",
      "text/plain": [
       "<Figure size 1000x800 with 1 Axes>"
      ]
     },
     "metadata": {},
     "output_type": "display_data"
    }
   ],
   "source": [
    "# Visualization of the Confusion Matrix\n",
    "plt.figure(figsize=(8, 6))\n",
    "sns.heatmap(conf_matrix_test, annot=True, fmt='d', cmap='Blues', \n",
    "            xticklabels=best_model.classes_, yticklabels=best_model.classes_)\n",
    "plt.xlabel('Predicted')\n",
    "plt.ylabel('True')\n",
    "plt.title('Confusion Matrix for Test Set')\n",
    "plt.show()\n",
    "\n",
    "# ROC Curve Visualization\n",
    "n_classes = y_test_proba.shape[1]\n",
    "fpr = {}\n",
    "tpr = {}\n",
    "roc_auc = {}\n",
    "\n",
    "for i in range(n_classes):\n",
    "    fpr[i], tpr[i], _ = roc_curve(y_test == i, y_test_proba[:, i])\n",
    "    roc_auc[i] = auc(fpr[i], tpr[i])\n",
    "\n",
    "plt.figure(figsize=(10, 8))\n",
    "for i in range(n_classes):\n",
    "    plt.plot(fpr[i], tpr[i], label=f'Class {i} (area = {roc_auc[i]:.2f})')\n",
    "\n",
    "plt.plot([0, 1], [0, 1], 'k--', lw=2)\n",
    "plt.xlim([0.0, 1.0])\n",
    "plt.ylim([0.0, 1.05])\n",
    "plt.xlabel('False Positive Rate')\n",
    "plt.ylabel('True Positive Rate')\n",
    "plt.title('Receiver Operating Characteristic (ROC) Curve')\n",
    "plt.legend(loc='lower right')\n",
    "plt.show()"
   ]
  },
  {
   "cell_type": "markdown",
   "metadata": {},
   "source": [
    "Conclusion:\n",
    "\n",
    "The Logistic Regression model performed well on the test set, achieving an AUC ROC score of 0.9722. The confusion matrix shows that the model made very few errors, with most of the predictions being correct. The ROC curve visualization further confirms the model's performance, as it closely follows the diagonal line, indicating a good classification ability."
   ]
  },
  {
   "cell_type": "markdown",
   "metadata": {},
   "source": [
    "Save the model to pickle file"
   ]
  },
  {
   "cell_type": "code",
   "execution_count": 14,
   "metadata": {},
   "outputs": [
    {
     "name": "stdout",
     "output_type": "stream",
     "text": [
      "Model saved to best_model.pkl\n"
     ]
    }
   ],
   "source": [
    "import pickle\n",
    "\n",
    "# Save the model to a pickle file\n",
    "model_filename = 'best_model.pkl'\n",
    "with open(model_filename, 'wb') as file:\n",
    "    pickle.dump(best_model, file)\n",
    "\n",
    "print(f\"Model saved to {model_filename}\")"
   ]
  }
 ],
 "metadata": {
  "kernelspec": {
   "display_name": "Python 3",
   "language": "python",
   "name": "python3"
  },
  "language_info": {
   "codemirror_mode": {
    "name": "ipython",
    "version": 3
   },
   "file_extension": ".py",
   "mimetype": "text/x-python",
   "name": "python",
   "nbconvert_exporter": "python",
   "pygments_lexer": "ipython3",
   "version": "3.12.0"
  }
 },
 "nbformat": 4,
 "nbformat_minor": 2
}
